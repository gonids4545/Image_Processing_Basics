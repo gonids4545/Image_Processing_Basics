{
 "cells": [
  {
   "cell_type": "code",
   "execution_count": 31,
   "id": "6579994e-aca7-473f-8fe7-45ef05dd71e9",
   "metadata": {},
   "outputs": [],
   "source": [
    "from PIL import Image\n",
    "#pil_im is a Python Image Library (PIL) image object\n",
    "\n",
    "pil_im = Image.open('hawa_mahal.jpg')\n",
    "pil_im.show()"
   ]
  },
  {
   "cell_type": "code",
   "execution_count": 33,
   "id": "73a9c65f-ea75-487b-a0c8-2b5c99dc23db",
   "metadata": {},
   "outputs": [],
   "source": [
    "pil_im = Image.open('hawa_mahal.jpg').convert('L')\n",
    "\n",
    "#the show method uses the system photo viewer app, as it saves the image in the temporary name.\n",
    "pil_im.show()"
   ]
  },
  {
   "cell_type": "code",
   "execution_count": 23,
   "id": "889782c2-0732-4e1d-86a2-dfaabf37900a",
   "metadata": {},
   "outputs": [],
   "source": [
    "#Convert images to another format\n",
    "#So, instead of using from the OS, I defined a file list with the given image files and supplied it to the for\n",
    "#loop which successfully converted the png files to jpg format.\n",
    "from PIL import Image\n",
    "import os\n",
    "\n",
    "filelist = [\"empire.jpg\", \"hawa_mahal.png\", \"sydney_opera.png\", \"taj_mahal.png\", \"london_bridge.png\" ]\n",
    "for infile in filelist:\n",
    "    outfile = os.path.splitext(infile)[0]+\".jpg\"\n",
    "    if infile != outfile:\n",
    "        try:\n",
    "            Image.open(infile).save(outfile)\n",
    "        except IOError:\n",
    "            print(\"Cannot Convert\", infile)"
   ]
  },
  {
   "cell_type": "code",
   "execution_count": 35,
   "id": "51d6a651-4002-45cf-9330-04c0689aa189",
   "metadata": {},
   "outputs": [],
   "source": [
    "# We now create thumbnails using PIL\n",
    "pil_im.thumbnail((128, 128))\n",
    "pil_im.show()"
   ]
  },
  {
   "cell_type": "code",
   "execution_count": 37,
   "id": "ad1b56ae-2177-41a6-aad1-b6e991887921",
   "metadata": {},
   "outputs": [],
   "source": [
    "#copy and paste regions\n",
    "box=(100, 100, 400, 400)\n",
    "region = pil_im.crop(box)\n",
    "region = region.transpose(Image.ROTATE_180)\n",
    "pil_im.paste(region, box)\n",
    "pil_im.show()"
   ]
  },
  {
   "cell_type": "code",
   "execution_count": 39,
   "id": "36a49e2b-1f14-4fd6-8cd1-d208b76f2f98",
   "metadata": {},
   "outputs": [],
   "source": [
    "#resize and rotate\n",
    "out = pil_im.resize((128, 128))\n",
    "out = pil_im.rotate(45)\n",
    "out.show()"
   ]
  }
 ],
 "metadata": {
  "kernelspec": {
   "display_name": "Python 3 (ipykernel)",
   "language": "python",
   "name": "python3"
  },
  "language_info": {
   "codemirror_mode": {
    "name": "ipython",
    "version": 3
   },
   "file_extension": ".py",
   "mimetype": "text/x-python",
   "name": "python",
   "nbconvert_exporter": "python",
   "pygments_lexer": "ipython3",
   "version": "3.12.4"
  }
 },
 "nbformat": 4,
 "nbformat_minor": 5
}
